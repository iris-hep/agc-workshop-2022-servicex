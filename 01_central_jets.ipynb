{
 "cells": [
  {
   "cell_type": "markdown",
   "metadata": {},
   "source": [
    "# Selecting Central Jets\n",
    "\n",
    "To work we need a ServiceX instance to run against. For this demo we'll use the Open Data instance located at University of Nebraska.\n",
    "\n",
    "All ServiceX instances require an account. To get an account go to [https://coffea-opendata.casa/](https://coffea-opendata.casa/), log in, and wait to be approved."
   ]
  },
  {
   "cell_type": "markdown",
   "metadata": {},
   "source": [
    "## Stream of Events (Source)\n",
    "\n",
    "Most commonly called the dataset - it specifies the source we will be pulling from. \n",
    "\n",
    "For this simple demo, lets do a single file on an open link, at an `http` endpoint. This is the first `ttbar` file from the `analysis-grand-challenge` [master ntuple list](https://github.com/iris-hep/analysis-grand-challenge/blob/main/analyses/cms-open-data-ttbar/ntuples.json)."
   ]
  },
  {
   "cell_type": "code",
   "execution_count": 1,
   "metadata": {},
   "outputs": [],
   "source": [
    "from func_adl_servicex import ServiceXSourceUpROOT\n",
    "\n",
    "file =\"https://xrootd-local.unl.edu:1094//store/user/AGC/datasets/RunIIFall15MiniAODv2/TT_TuneCUETP8M1_13TeV-powheg-pythia8/MINIAODSIM//PU25nsData2015v1_76X_mcRun2_asymptotic_v12_ext3-v1/00000/00DF0A73-17C2-E511-B086-E41D2D08DE30.root\"\n",
    "\n",
    "ds = ServiceXSourceUpROOT([file], treename=\"events\")"
   ]
  },
  {
   "cell_type": "markdown",
   "metadata": {},
   "source": [
    "`ds`, short for dataset, is the stream of events source. Since this is a column wise ntuple, and `ds` gives us access to its contents. We are going to have to make a cut on jet $p_T$ - so lets get that first"
   ]
  },
  {
   "cell_type": "code",
   "execution_count": 2,
   "metadata": {},
   "outputs": [
    {
     "data": {
      "application/vnd.jupyter.widget-view+json": {
       "model_id": "13cf5b8720084d789864cf340995ca6e",
       "version_major": 2,
       "version_minor": 0
      },
      "text/plain": [
       "[https://xrootd-loca...:   0%|          | 0/9000000000.0 [00:00]"
      ]
     },
     "metadata": {},
     "output_type": "display_data"
    },
    {
     "data": {
      "application/vnd.jupyter.widget-view+json": {
       "model_id": "2dc383564ad24e96aa0450748e5edadf",
       "version_major": 2,
       "version_minor": 0
      },
      "text/plain": [
       "        [https://xrootd-loca... Downloaded:   0%|          | 0/9000000000.0 [00:00]"
      ]
     },
     "metadata": {},
     "output_type": "display_data"
    }
   ],
   "source": [
    "data = (ds\n",
    "    .Select(lambda e: {\n",
    "        'pt': e.jet_pt,\n",
    "    })\n",
    "    .AsAwkwardArray()\n",
    "    .value()\n",
    ")"
   ]
  },
  {
   "cell_type": "markdown",
   "metadata": {},
   "source": [
    "Now we will make a hist using the standard plotting tools. I'm from ATLAS, even though this isn't ATLAS data, I'll use the standard format for ATLAS."
   ]
  },
  {
   "cell_type": "code",
   "execution_count": 4,
   "metadata": {},
   "outputs": [
    {
     "ename": "ModuleNotFoundError",
     "evalue": "No module named 'mplhep'",
     "output_type": "error",
     "traceback": [
      "\u001b[1;31m---------------------------------------------------------------------------\u001b[0m",
      "\u001b[1;31mModuleNotFoundError\u001b[0m                       Traceback (most recent call last)",
      "\u001b[1;32mc:\\Users\\gordo\\Code\\iris-hep\\agc-workshop-2022-servicex\\01_central_jets.ipynb Cell 7'\u001b[0m in \u001b[0;36m<cell line: 1>\u001b[1;34m()\u001b[0m\n\u001b[1;32m----> <a href='vscode-notebook-cell:/c%3A/Users/gordo/Code/iris-hep/agc-workshop-2022-servicex/01_central_jets.ipynb#ch0000013?line=0'>1</a>\u001b[0m \u001b[39mimport\u001b[39;00m \u001b[39mmplhep\u001b[39;00m \u001b[39mas\u001b[39;00m \u001b[39mhep\u001b[39;00m\n\u001b[0;32m      <a href='vscode-notebook-cell:/c%3A/Users/gordo/Code/iris-hep/agc-workshop-2022-servicex/01_central_jets.ipynb#ch0000013?line=1'>2</a>\u001b[0m hep\u001b[39m.\u001b[39mstyle\u001b[39m.\u001b[39muse(hep\u001b[39m.\u001b[39mstyle\u001b[39m.\u001b[39mATLAS)\n\u001b[0;32m      <a href='vscode-notebook-cell:/c%3A/Users/gordo/Code/iris-hep/agc-workshop-2022-servicex/01_central_jets.ipynb#ch0000013?line=2'>3</a>\u001b[0m hep\u001b[39m.\u001b[39matlas\u001b[39m.\u001b[39mlabel(\u001b[39m\"\u001b[39m\u001b[39mPersonal\u001b[39m\u001b[39m\"\u001b[39m, data\u001b[39m=\u001b[39m\u001b[39mFalse\u001b[39;00m)\n",
      "\u001b[1;31mModuleNotFoundError\u001b[0m: No module named 'mplhep'"
     ]
    }
   ],
   "source": [
    "import mplhep as hep\n",
    "hep.style.use(hep.style.ATLAS)\n",
    "hep.atlas.label(\"Personal\", data=False)"
   ]
  },
  {
   "cell_type": "code",
   "execution_count": 3,
   "metadata": {},
   "outputs": [
    {
     "data": {
      "text/plain": [
       "<Record ... 13, 8, 12, 6, 7, 10, 6, 8, 6, 10]} type='{\"pt\": var * int64}'>"
      ]
     },
     "execution_count": 3,
     "metadata": {},
     "output_type": "execute_result"
    }
   ],
   "source": [
    "import awkward as ak\n",
    "ak.count(data, axis=1)"
   ]
  },
  {
   "cell_type": "code",
   "execution_count": 6,
   "metadata": {},
   "outputs": [],
   "source": [
    "f = uproot.open(file)"
   ]
  },
  {
   "cell_type": "code",
   "execution_count": 21,
   "metadata": {},
   "outputs": [],
   "source": [
    "a = f['events'].arrays('jet_pt')"
   ]
  },
  {
   "cell_type": "code",
   "execution_count": 22,
   "metadata": {},
   "outputs": [
    {
     "data": {
      "text/plain": [
       "<Array [{jet_pt: [96.6, 90.3, ... 10.4, 10.1]}] type='41812 * {\"jet_pt\": var * f...'>"
      ]
     },
     "execution_count": 22,
     "metadata": {},
     "output_type": "execute_result"
    }
   ],
   "source": [
    "a"
   ]
  },
  {
   "cell_type": "code",
   "execution_count": 26,
   "metadata": {},
   "outputs": [
    {
     "data": {
      "text/plain": [
       "<Array [[96.6, 90.3, 66.4, ... 10.4, 10.1]] type='41812 * var * float32'>"
      ]
     },
     "execution_count": 26,
     "metadata": {},
     "output_type": "execute_result"
    }
   ],
   "source": [
    "a.jet_pt"
   ]
  },
  {
   "cell_type": "code",
   "execution_count": null,
   "metadata": {},
   "outputs": [],
   "source": []
  }
 ],
 "metadata": {
  "kernelspec": {
   "display_name": "Python 3 (ipykernel)",
   "language": "python",
   "name": "python3"
  },
  "language_info": {
   "codemirror_mode": {
    "name": "ipython",
    "version": 3
   },
   "file_extension": ".py",
   "mimetype": "text/x-python",
   "name": "python",
   "nbconvert_exporter": "python",
   "pygments_lexer": "ipython3",
   "version": "3.9.6"
  },
  "orig_nbformat": 4
 },
 "nbformat": 4,
 "nbformat_minor": 2
}
